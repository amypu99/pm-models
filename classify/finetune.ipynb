{
 "cells": [
  {
   "cell_type": "code",
   "execution_count": 1,
   "id": "96de1bb2-8dfc-4eb9-807e-18328748ced3",
   "metadata": {},
   "outputs": [],
   "source": [
    "# Import statements\n",
    "import transformers\n",
    "import os\n",
    "import wandb\n",
    "from datasets import Dataset, load_dataset\n",
    "from transformers import AutoTokenizer, AutoModelForCausalLM, BitsAndBytesConfig, TrainingArguments\n",
    "import torch\n",
    "from datetime import datetime\n",
    "from peft import prepare_model_for_kbit_training, LoraConfig, get_peft_model\n",
    "from trl import SFTConfig, SFTTrainer"
   ]
  },
  {
   "cell_type": "code",
   "execution_count": 2,
   "id": "fe7bfb77-cec0-4a18-bc36-356591590f21",
   "metadata": {},
   "outputs": [
    {
     "name": "stderr",
     "output_type": "stream",
     "text": [
      "Failed to detect the name of this notebook, you can set it manually with the WANDB_NOTEBOOK_NAME environment variable to enable code saving.\n",
      "\u001b[34m\u001b[1mwandb\u001b[0m: Currently logged in as: \u001b[33map4489\u001b[0m (\u001b[33map4489-columbia-university\u001b[0m) to \u001b[32mhttps://api.wandb.ai\u001b[0m. Use \u001b[1m`wandb login --relogin`\u001b[0m to force relogin\n"
     ]
    }
   ],
   "source": [
    "wandb.login()\n",
    "\n",
    "wandb_project = \"pm-classify-finetune\"\n",
    "if len(wandb_project) > 0:\n",
    "    os.environ[\"WANDB_PROJECT\"] = wandb_project"
   ]
  },
  {
   "cell_type": "code",
   "execution_count": 3,
   "id": "3bab0f66-a54c-4fee-a8a4-8a661b14a1e1",
   "metadata": {},
   "outputs": [],
   "source": [
    "os.environ[\"CUDA_LAUNCH_BLOCKING\"] = \"1\"\n",
    "os.environ[\"CUDA_VISIBLE_DEVICES\"] = \"0,1,2,3\"\n",
    "os.environ['PYTORCH_CUDA_ALLOC_CONF'] = 'max_split_size_mb:128' #'expandable_segments:True' "
   ]
  },
  {
   "cell_type": "code",
   "execution_count": null,
   "id": "8829a2ae-7c44-4f6d-a32b-8b3586f60d53",
   "metadata": {},
   "outputs": [],
   "source": [
    "train_dataset = load_dataset('json', data_files='./train_data.jsonl', split='train')\n",
    "val_dataset = load_dataset('json', data_files='./test_data.jsonl', split='train')"
   ]
  },
  {
   "cell_type": "code",
   "execution_count": 4,
   "id": "135c415b-1222-4338-8804-81b847269fdf",
   "metadata": {},
   "outputs": [],
   "source": [
    "import pandas as pd\n",
    "\n",
    "train_df = pd.read_json('./train_data.jsonl', lines=True)\n",
    "val_df = pd.read_json('./test_data.jsonl', lines=True)"
   ]
  },
  {
   "cell_type": "code",
   "execution_count": 5,
   "id": "3053a74e-9e1b-403c-b226-0d5a1d8b18e5",
   "metadata": {},
   "outputs": [],
   "source": [
    "all_messages = []\n",
    "for i in range(len(train_df)):\n",
    "    message = [\n",
    "        {\"role\": \"user\", \"content\": train_df.Prompt.values[i] +  train_df.Context.values[i][:10000]},\n",
    "        {\"role\": \"assistant\", \"content\": train_df.Response.values[i]},\n",
    "        ]\n",
    "    all_messages.append(message)\n",
    "train_dataset = Dataset.from_dict({\"formatted_chat\": all_messages})\n",
    "\n",
    "all_messages = []\n",
    "for i in range(len(val_df)):\n",
    "    message = [\n",
    "        {\"role\": \"user\", \"content\": val_df.Prompt.values[i] +  val_df.Context.values[i][:10000]},\n",
    "        {\"role\": \"assistant\", \"content\": val_df.Response.values[i]},\n",
    "        ]\n",
    "    all_messages.append(message)\n",
    "\n",
    "val_dataset = Dataset.from_dict({\"formatted_chat\": all_messages})"
   ]
  },
  {
   "cell_type": "code",
   "execution_count": null,
   "id": "a7ed7886-a837-4884-b473-947efe1d03db",
   "metadata": {},
   "outputs": [],
   "source": [
    "model_id = \"Equall/Saul-Instruct-v1\"\n",
    "\n",
    "bnb_config = BitsAndBytesConfig(\n",
    "    load_in_4bit=True,\n",
    "    bnb_4bit_use_double_quant=True,\n",
    "    bnb_4bit_quant_type=\"nf4\",\n",
    "    bnb_4bit_compute_dtype=torch.bfloat16\n",
    ")\n",
    "\n",
    "model = AutoModelForCausalLM.from_pretrained(\n",
    "    model_id,\n",
    "    quantization_config=bnb_config,\n",
    "    torch_dtype=torch.bfloat16,\n",
    "    trust_remote_code=True,\n",
    "    device_map=\"auto\",\n",
    ")\n",
    "model.config.use_cache = False\n",
    "model.config.pretraining_tp = 1\n",
    "model.gradient_checkpointing_enable()"
   ]
  },
  {
   "cell_type": "code",
   "execution_count": 8,
   "id": "5704e059-4353-4c36-bfe3-d132598e25fe",
   "metadata": {},
   "outputs": [],
   "source": [
    "tokenizer = AutoTokenizer.from_pretrained(model_id, trust_remote_code=True)\n",
    "tokenizer.padding_side = 'right'\n",
    "tokenizer.pad_token = tokenizer.eos_token\n",
    "tokenizer.add_eos_token = True\n",
    "tokenizer.set_default_template = False"
   ]
  },
  {
   "cell_type": "code",
   "execution_count": 9,
   "id": "6dcc50c9-a076-4fe3-8de4-685cb53fe31d",
   "metadata": {},
   "outputs": [],
   "source": [
    "def clean_text(text):\n",
    "    text = ' '.join(text.split())\n",
    "\n",
    "    text = text.replace('\\n', ' ')\n",
    "    text = text.replace('\\\\t', ' ')\n",
    "    text = text.replace('\\\\\"', '\"')\n",
    "\n",
    "    return text"
   ]
  },
  {
   "cell_type": "code",
   "execution_count": 8,
   "id": "e164066d-ddac-46d9-a79f-eaf2e071262b",
   "metadata": {},
   "outputs": [],
   "source": [
    "def truncate_and_tokenize(example):\n",
    "    max_len = 2000\n",
    "\n",
    "    prompt = clean_text(example[\"Prompt\"])\n",
    "    context = clean_text(example[\"Context\"])\n",
    "    response = clean_text(example[\"Response\"])\n",
    "\n",
    "    prompt_tokens = tokenizer(prompt, add_special_tokens=False)['input_ids']\n",
    "    response_tokens = tokenizer(response, add_special_tokens=False)['input_ids']\n",
    "\n",
    "    available_tokens = max_len - len(prompt_tokens) - len(response_tokens) - 2  \n",
    "    \n",
    "    context_tokens = tokenizer(context, add_special_tokens=False)['input_ids']\n",
    "    if len(context_tokens) > available_tokens:\n",
    "        context_tokens = context_tokens[:available_tokens]\n",
    "\n",
    "    truncated_context = tokenizer.decode(context_tokens, skip_special_tokens=True)\n",
    "\n",
    "    messages = [\n",
    "        {\"role\": \"user\", \"content\": f\"{prompt}\\n{truncated_context}\"},\n",
    "        {\"role\": \"assistant\", \"content\": response}\n",
    "    ]\n",
    "    \n",
    "    formatted_input = tokenizer.apply_chat_template(messages, tokenize=False, add_generation_prompt=False)\n",
    "\n",
    "    tokens = tokenizer(\n",
    "        formatted_input, \n",
    "        add_special_tokens=True,\n",
    "        padding=\"max_length\", \n",
    "        truncation=True, \n",
    "        max_length=max_len \n",
    "    )  \n",
    "\n",
    "    return {\n",
    "        \"input_ids\": tokens[\"input_ids\"],\n",
    "        \"attention_mask\": tokens[\"attention_mask\"],\n",
    "        \"labels\": tokens[\"input_ids\"][:]  \n",
    "    }\n"
   ]
  },
  {
   "cell_type": "code",
   "execution_count": 9,
   "id": "e3cbebbd-1f1c-40b7-a6ba-f358070c5141",
   "metadata": {},
   "outputs": [
    {
     "name": "stderr",
     "output_type": "stream",
     "text": [
      "Map: 100%|█████████████████████████████████████████████████████████████████████████████████████████████████████████| 648/648 [00:19<00:00, 33.77 examples/s]\n",
      "Map: 100%|█████████████████████████████████████████████████████████████████████████████████████████████████████████| 163/163 [00:05<00:00, 31.83 examples/s]\n"
     ]
    }
   ],
   "source": [
    "tok_train_dataset = train_dataset.map(truncate_and_tokenize, remove_columns=train_dataset.column_names)\n",
    "tok_val_dataset = val_dataset.map(truncate_and_tokenize, remove_columns=val_dataset.column_names)"
   ]
  },
  {
   "cell_type": "code",
   "execution_count": 10,
   "id": "06d2d10d-743c-4ba3-9b0e-6851702440de",
   "metadata": {},
   "outputs": [],
   "source": [
    "model = prepare_model_for_kbit_training(model)\n",
    "\n",
    "config = LoraConfig(\n",
    "    r= 32,\n",
    "    lora_alpha= 64,\n",
    "    target_modules=[\"q_proj\", \"k_proj\", \"v_proj\", \"o_proj\", \"gate_proj\", \"up_proj\", \"down_proj\", \"lm_head\",],\n",
    "    bias=\"none\",\n",
    "    lora_dropout=0.05,\n",
    "    task_type=\"CAUSAL_LM\",\n",
    ")\n",
    "\n",
    "model = get_peft_model(model, config)\n",
    "# print_trainable_parameters(model)"
   ]
  },
  {
   "cell_type": "code",
   "execution_count": null,
   "id": "b9d65605-9e76-4a48-92d8-49b60b31f64f",
   "metadata": {},
   "outputs": [],
   "source": [
    "run_name = \"saul-classification-ft\"\n",
    "\n",
    "training_args = SFTConfig(\n",
    "    output_dir=\"./saul-classification\",\n",
    "    warmup_steps=2,\n",
    "    per_device_train_batch_size=2,\n",
    "    gradient_accumulation_steps=4,\n",
    "    gradient_checkpointing=True,\n",
    "    max_steps=50,\n",
    "    learning_rate=2.5e-5,\n",
    "    bf16=True,\n",
    "    optim=\"paged_adamw_8bit\",\n",
    "    logging_steps=25,\n",
    "    logging_dir=\"./logs\",\n",
    "    save_strategy=\"steps\",\n",
    "    save_steps=25,\n",
    "    eval_steps=25,\n",
    "    do_eval=True,\n",
    "    evaluation_strategy=\"steps\",\n",
    "    save_total_limit=3,\n",
    "    max_grad_norm=0.3,\n",
    "    report_to=\"wandb\",\n",
    "    run_name=f\"{run_name}-{datetime.now().strftime('%Y-%m-%d-%H-%M')}\",\n",
    "    max_seq_length=512,\n",
    ")\n",
    "\n",
    "data_collator = transformers.DataCollatorForLanguageModeling(tokenizer=tokenizer, mlm=False)\n",
    "\n",
    "def formatting_prompts_func(example):\n",
    "    return tokenizer.apply_chat_template(example['formatted_chat'], tokenize=False, add_generation_prompt=False)\n",
    "\n",
    "trainer = SFTTrainer(\n",
    "    model=model,\n",
    "    train_dataset=train_dataset,\n",
    "    eval_dataset=val_dataset,\n",
    "    args=training_args,\n",
    "    data_collator=data_collator,\n",
    "    formatting_func=formatting_prompts_func\n",
    ")\n",
    "\n",
    "torch.cuda.empty_cache()\n",
    "\n",
    "trainer.train()"
   ]
  },
  {
   "cell_type": "code",
   "execution_count": null,
   "id": "158ed534-498f-467e-94fb-448f117ea8e0",
   "metadata": {},
   "outputs": [],
   "source": [
    "run_name = \"saul-classification-ft\"\n",
    "training_args = TrainingArguments(\n",
    "    output_dir=\"./saul-classification-ft\",\n",
    "    warmup_steps=2,\n",
    "    per_device_train_batch_size=2,\n",
    "    gradient_accumulation_steps=4,\n",
    "    gradient_checkpointing=True,\n",
    "    max_steps=200,\n",
    "    learning_rate=2.5e-5,\n",
    "    bf16=True,\n",
    "    optim=\"paged_adamw_8bit\",\n",
    "    logging_steps=25,\n",
    "    logging_dir=\"./logs\",\n",
    "    save_strategy=\"steps\",\n",
    "    save_steps=25,\n",
    "    eval_steps=25,\n",
    "    do_eval=True,\n",
    "    evaluation_strategy=\"steps\",\n",
    "    save_total_limit=3,\n",
    "    max_grad_norm=0.3,\n",
    "    report_to=\"wandb\",\n",
    "    run_name=f\"{run_name}-{datetime.now().strftime('%Y-%m-%d-%H-%M')}\"\n",
    ")\n",
    "\n",
    "data_collator = transformers.DataCollatorForLanguageModeling(tokenizer=tokenizer, mlm=False)\n",
    "\n",
    "trainer = transformers.Trainer(\n",
    "    model=model,\n",
    "    train_dataset=tok_train_dataset,\n",
    "    eval_dataset=tok_val_dataset,\n",
    "    args=training_args,\n",
    "    data_collator=data_collator,\n",
    ")\n",
    "\n",
    "#torch.cuda.synchronize()\n",
    "torch.cuda.empty_cache()\n",
    "\n",
    "trainer.train()"
   ]
  },
  {
   "cell_type": "code",
   "execution_count": null,
   "id": "1eaf4f39-e87b-44d8-b9e9-3de8f74d4367",
   "metadata": {},
   "outputs": [],
   "source": [
    "trainer.model.save_pretrained(\"saul-ft-200/\")\n",
    "model.config.use_cache = True"
   ]
  },
  {
   "cell_type": "markdown",
   "id": "25118dc6-15bc-43fd-b483-363fa804f7e4",
   "metadata": {},
   "source": [
    "from huggingface_hub import HfApi\n",
    "\n",
    "hf_token = \"\"\n",
    "api = HfApi(token=hf_token)\n",
    "api.upload_folder(\n",
    "    repo_id=\"prx2sam/saul-ft-200\",\n",
    "    folder_path=\"../saul-ft-200/\"\n",
    ")"
   ]
  }
 ],
 "metadata": {
  "kernelspec": {
   "display_name": "Python 3 (ipykernel)",
   "language": "python",
   "name": "python3"
  },
  "language_info": {
   "codemirror_mode": {
    "name": "ipython",
    "version": 3
   },
   "file_extension": ".py",
   "mimetype": "text/x-python",
   "name": "python",
   "nbconvert_exporter": "python",
   "pygments_lexer": "ipython3",
   "version": "3.12.3"
  }
 },
 "nbformat": 4,
 "nbformat_minor": 5
}
