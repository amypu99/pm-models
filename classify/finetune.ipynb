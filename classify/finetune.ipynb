{
 "cells": [
  {
   "cell_type": "code",
   "execution_count": 1,
   "id": "c8fc72be450f62ed",
   "metadata": {
    "ExecuteTime": {
     "end_time": "2025-01-30T22:05:51.168051Z",
     "start_time": "2025-01-30T22:05:15.221089Z"
    }
   },
   "outputs": [
    {
     "name": "stderr",
     "output_type": "stream",
     "text": [
      "/home/ps3203/.venv/lib/python3.12/site-packages/tqdm/auto.py:21: TqdmWarning: IProgress not found. Please update jupyter and ipywidgets. See https://ipywidgets.readthedocs.io/en/stable/user_install.html\n",
      "  from .autonotebook import tqdm as notebook_tqdm\n"
     ]
    }
   ],
   "source": [
    "# Import statements\n",
    "import transformers\n",
    "import os\n",
    "import wandb\n",
    "from datasets import load_dataset\n",
    "from transformers import AutoTokenizer, AutoModelForCausalLM, BitsAndBytesConfig, TrainingArguments\n",
    "import torch\n",
    "from datetime import datetime\n",
    "from peft import prepare_model_for_kbit_training, LoraConfig, get_peft_model"
   ]
  },
  {
   "cell_type": "code",
   "execution_count": 2,
   "id": "e652d52a87dc2464",
   "metadata": {
    "ExecuteTime": {
     "end_time": "2025-01-30T22:05:52.603847Z",
     "start_time": "2025-01-30T22:05:51.224404Z"
    }
   },
   "outputs": [
    {
     "name": "stderr",
     "output_type": "stream",
     "text": [
      "\u001b[34m\u001b[1mwandb\u001b[0m: Currently logged in as: \u001b[33mps3203\u001b[0m (\u001b[33mps3203-columbia-university\u001b[0m). Use \u001b[1m`wandb login --relogin`\u001b[0m to force relogin\n"
     ]
    }
   ],
   "source": [
    "wandb.login()\n",
    "\n",
    "wandb_project = \"pm-classify-finetune\"\n",
    "if len(wandb_project) > 0:\n",
    "    os.environ[\"WANDB_PROJECT\"] = wandb_project\n"
   ]
  },
  {
   "cell_type": "code",
   "execution_count": 3,
   "id": "3ea8f8511695edcb",
   "metadata": {
    "ExecuteTime": {
     "end_time": "2025-01-30T22:05:53.329113Z",
     "start_time": "2025-01-30T22:05:53.326658Z"
    }
   },
   "outputs": [],
   "source": [
    "os.environ[\"CUDA_LAUNCH_BLOCKING\"] = \"1\"\n",
    "# os.environ[\"CUDA_VISIBLE_DEVICES\"] = \"0\"\n",
    "os.environ['PYTORCH_CUDA_ALLOC_CONF'] = 'max_split_size_mb:128'"
   ]
  },
  {
   "cell_type": "code",
   "execution_count": 4,
   "id": "cef30bc2f4fc652a",
   "metadata": {
    "ExecuteTime": {
     "end_time": "2025-01-30T22:05:53.622791Z",
     "start_time": "2025-01-30T22:05:53.450603Z"
    }
   },
   "outputs": [],
   "source": [
    "train_dataset = load_dataset('json', data_files='train_data.jsonl', split='train')\n",
    "val_dataset = load_dataset('json', data_files='test_data.jsonl', split='train')"
   ]
  },
  {
   "cell_type": "code",
   "execution_count": 5,
   "id": "8e48090f7110bfe5",
   "metadata": {
    "ExecuteTime": {
     "end_time": "2025-01-30T22:06:03.251358Z",
     "start_time": "2025-01-30T22:05:53.631715Z"
    }
   },
   "outputs": [
    {
     "name": "stderr",
     "output_type": "stream",
     "text": [
      "Loading checkpoint shards: 100%|██████████████████████████████████████████████████████████████████████████████████████████████| 6/6 [00:08<00:00,  1.34s/it]\n"
     ]
    }
   ],
   "source": [
    "model_id = \"Equall/Saul-Instruct-v1\"\n",
    "\n",
    "bnb_config = BitsAndBytesConfig(\n",
    "    load_in_4bit=True,\n",
    "    bnb_4bit_use_double_quant=True,\n",
    "    bnb_4bit_quant_type=\"nf4\",\n",
    "    bnb_4bit_compute_dtype=torch.bfloat16\n",
    ")\n",
    "\n",
    "model = AutoModelForCausalLM.from_pretrained(\n",
    "    model_id,\n",
    "    quantization_config=bnb_config,\n",
    "    torch_dtype=torch.bfloat16,\n",
    "    trust_remote_code=True,\n",
    "    device_map=\"auto\",\n",
    ")\n",
    "model.config.use_cache = False\n",
    "model.config.pretraining_tp = 1\n",
    "model.gradient_checkpointing_enable()\n"
   ]
  },
  {
   "cell_type": "code",
   "execution_count": 6,
   "id": "501704b8eb76a9c3",
   "metadata": {
    "ExecuteTime": {
     "end_time": "2025-01-30T22:06:03.497154Z",
     "start_time": "2025-01-30T22:06:03.262695Z"
    }
   },
   "outputs": [],
   "source": [
    "tokenizer = AutoTokenizer.from_pretrained(model_id, trust_remote_code=True)\n",
    "tokenizer.padding_side = 'right'\n",
    "tokenizer.pad_token = tokenizer.eos_token\n",
    "tokenizer.add_eos_token = True"
   ]
  },
  {
   "cell_type": "markdown",
   "id": "15b40cae6f0ca072",
   "metadata": {},
   "source": [
    "import matplotlib.pyplot as plt\n",
    "\n",
    "def plot_data_lengths(tokenized_train_dataset, tokenized_val_dataset):\n",
    "    lengths = [len(x['input_ids']) for x in tokenized_train_dataset]\n",
    "    lengths += [len(x['input_ids']) for x in tokenized_val_dataset]\n",
    "    print(len(lengths))\n",
    "\n",
    "    # Plotting the histogram\n",
    "    plt.figure(figsize=(10, 6))\n",
    "    plt.hist(lengths, bins=20, alpha=0.7, color='blue')\n",
    "    plt.xlabel('Length of input_ids')\n",
    "    plt.ylabel('Frequency')\n",
    "    plt.title('Distribution of Lengths of input_ids')\n",
    "    plt.show()"
   ]
  },
  {
   "cell_type": "code",
   "execution_count": 7,
   "id": "5e0f14b4dd93ac11",
   "metadata": {
    "ExecuteTime": {
     "end_time": "2025-01-30T22:06:03.522680Z",
     "start_time": "2025-01-30T22:06:03.518643Z"
    }
   },
   "outputs": [],
   "source": [
    "def clean_text(text):\n",
    "    text = ' '.join(text.split())\n",
    "        \n",
    "    # Fix common issues in JSONL files\n",
    "    text = text.replace('\\n', ' ')  # Convert literal \\n to newlines\n",
    "    text = text.replace('\\\\t', ' ')   # Convert tabs to spaces\n",
    "    text = text.replace('\\\\\"', '\"')   # Fix escaped quotes\n",
    "    \n",
    "    return text\n",
    "\n",
    "\n",
    "def truncate_and_tokenize(example):\n",
    "    question = f\"### Question: {example['Prompt']}\\n\"\n",
    "    answer = f\"\\n### Answer: {example['Response']}\"\n",
    "    max_len = 2000\n",
    "\n",
    "    # Tokenize question, answer and context (case text) separately\n",
    "    q_tokens = tokenizer(question, add_special_tokens=False)['input_ids']\n",
    "    a_tokens = tokenizer(answer, add_special_tokens=False)['input_ids']\n",
    "    c_tokens = tokenizer(clean_text(example['Context']), add_special_tokens=False)['input_ids']\n",
    "\n",
    "    # Calculate available space for case text\n",
    "    available = max_len - len(q_tokens) - len(a_tokens) - 2 \n",
    "\n",
    "    # Truncate case text\n",
    "    if len(c_tokens) > available:\n",
    "        c_tokens = c_tokens[:available]\n",
    "\n",
    "    # Combine tokens\n",
    "    combined_tokens = (\n",
    "        [tokenizer.bos_token_id] +\n",
    "        q_tokens +\n",
    "        c_tokens +\n",
    "        a_tokens +\n",
    "        [tokenizer.eos_token_id]\n",
    "    )\n",
    "\n",
    "    attention_mask = [1] * len(combined_tokens)\n",
    "\n",
    "    # Pad if necessary\n",
    "    if len(combined_tokens) < max_len:\n",
    "        padding_length = max_len - len(combined_tokens)\n",
    "        combined_tokens.extend([tokenizer.pad_token_id] * padding_length)\n",
    "        attention_mask.extend([0] * padding_length)\n",
    "\n",
    "    result = {\n",
    "        \"input_ids\": combined_tokens,\n",
    "        \"attention_mask\": attention_mask,\n",
    "        \"labels\": combined_tokens.copy()\n",
    "    }\n",
    "\n",
    "    return result"
   ]
  },
  {
   "cell_type": "code",
   "execution_count": 9,
   "id": "99514d581e609943",
   "metadata": {
    "ExecuteTime": {
     "end_time": "2025-01-30T22:06:03.627365Z",
     "start_time": "2025-01-30T22:06:03.567351Z"
    }
   },
   "outputs": [
    {
     "name": "stderr",
     "output_type": "stream",
     "text": [
      "Map: 100%|█████████████████████████████████████████████████████████████████████████████████████████████████████████| 648/648 [00:12<00:00, 52.63 examples/s]\n",
      "Map: 100%|█████████████████████████████████████████████████████████████████████████████████████████████████████████| 163/163 [00:03<00:00, 49.06 examples/s]\n"
     ]
    }
   ],
   "source": [
    "tok_train_dataset = train_dataset.map(truncate_and_tokenize, remove_columns=train_dataset.column_names)\n",
    "tok_val_dataset = val_dataset.map(truncate_and_tokenize, remove_columns=val_dataset.column_names)"
   ]
  },
  {
   "cell_type": "markdown",
   "id": "5bae3a8440d72f83",
   "metadata": {},
   "source": [
    "def print_trainable_parameters(model):\n",
    "    trainable_parameters = 0\n",
    "    all_parameters = 0\n",
    "    for i, param in model.named_parameters():\n",
    "        all_parameters += param.numel()\n",
    "        if param.requires_grad:\n",
    "            trainable_parameters += param.numel()\n",
    "    print(f\"trainable_parameters: {trainable_parameters} || all_parameters: {all_parameters} || trainable: {100 * trainable_parameters/all_parameters}\" )"
   ]
  },
  {
   "cell_type": "code",
   "execution_count": 10,
   "id": "d68aa4e139a9ab65",
   "metadata": {
    "ExecuteTime": {
     "end_time": "2025-01-30T22:06:04.638868Z",
     "start_time": "2025-01-30T22:06:03.644547Z"
    }
   },
   "outputs": [],
   "source": [
    "model = prepare_model_for_kbit_training(model)\n",
    "\n",
    "config = LoraConfig(\n",
    "    r= 32,\n",
    "    lora_alpha= 64,\n",
    "    target_modules=[\"q_proj\", \"k_proj\", \"v_proj\", \"o_proj\", \"gate_proj\", \"up_proj\", \"down_proj\", \"lm_head\",],\n",
    "    bias=\"none\",\n",
    "    lora_dropout=0.05,\n",
    "    task_type=\"CAUSAL_LM\",\n",
    ")\n",
    "\n",
    "model = get_peft_model(model, config)\n",
    "# print_trainable_parameters(model)"
   ]
  },
  {
   "cell_type": "code",
   "execution_count": null,
   "id": "d475085f8bae43ff",
   "metadata": {
    "ExecuteTime": {
     "end_time": "2025-01-30T22:08:23.332281Z",
     "start_time": "2025-01-30T22:06:04.687802Z"
    }
   },
   "outputs": [
    {
     "name": "stderr",
     "output_type": "stream",
     "text": [
      "/home/ps3203/.venv/lib/python3.12/site-packages/transformers/training_args.py:1575: FutureWarning: `evaluation_strategy` is deprecated and will be removed in version 4.46 of 🤗 Transformers. Use `eval_strategy` instead\n",
      "  warnings.warn(\n"
     ]
    },
    {
     "data": {
      "text/html": [
       "Changes to your `wandb` environment variables will be ignored because your `wandb` session has already started. For more information on how to modify your settings with `wandb.init()` arguments, please refer to <a href='https://wandb.me/wandb-init' target=\"_blank\">the W&B docs</a>."
      ],
      "text/plain": [
       "<IPython.core.display.HTML object>"
      ]
     },
     "metadata": {},
     "output_type": "display_data"
    },
    {
     "name": "stderr",
     "output_type": "stream",
     "text": [
      "\u001b[34m\u001b[1mwandb\u001b[0m: Using wandb-core as the SDK backend.  Please refer to https://wandb.me/wandb-core for more information.\n"
     ]
    },
    {
     "data": {
      "text/html": [
       "Tracking run with wandb version 0.19.4"
      ],
      "text/plain": [
       "<IPython.core.display.HTML object>"
      ]
     },
     "metadata": {},
     "output_type": "display_data"
    },
    {
     "data": {
      "text/html": [
       "Run data is saved locally in <code>/home/ps3203/Research/classify/wandb/run-20250131_144244-jyot671y</code>"
      ],
      "text/plain": [
       "<IPython.core.display.HTML object>"
      ]
     },
     "metadata": {},
     "output_type": "display_data"
    },
    {
     "data": {
      "text/html": [
       "Syncing run <strong><a href='https://wandb.ai/ps3203-columbia-university/pm-classify-finetune/runs/jyot671y' target=\"_blank\">saul-classification-ft-new-2025-01-31-14-42</a></strong> to <a href='https://wandb.ai/ps3203-columbia-university/pm-classify-finetune' target=\"_blank\">Weights & Biases</a> (<a href='https://wandb.me/developer-guide' target=\"_blank\">docs</a>)<br>"
      ],
      "text/plain": [
       "<IPython.core.display.HTML object>"
      ]
     },
     "metadata": {},
     "output_type": "display_data"
    },
    {
     "data": {
      "text/html": [
       " View project at <a href='https://wandb.ai/ps3203-columbia-university/pm-classify-finetune' target=\"_blank\">https://wandb.ai/ps3203-columbia-university/pm-classify-finetune</a>"
      ],
      "text/plain": [
       "<IPython.core.display.HTML object>"
      ]
     },
     "metadata": {},
     "output_type": "display_data"
    },
    {
     "data": {
      "text/html": [
       " View run at <a href='https://wandb.ai/ps3203-columbia-university/pm-classify-finetune/runs/jyot671y' target=\"_blank\">https://wandb.ai/ps3203-columbia-university/pm-classify-finetune/runs/jyot671y</a>"
      ],
      "text/plain": [
       "<IPython.core.display.HTML object>"
      ]
     },
     "metadata": {},
     "output_type": "display_data"
    },
    {
     "name": "stderr",
     "output_type": "stream",
     "text": [
      "/home/ps3203/.venv/lib/python3.12/site-packages/torch/_dynamo/eval_frame.py:632: UserWarning: torch.utils.checkpoint: the use_reentrant parameter should be passed explicitly. In version 2.5 we will raise an exception if use_reentrant is not passed. use_reentrant=False is recommended, but if you need to preserve the current default behavior, you can pass use_reentrant=True. Refer to docs for more details on the differences between the two variants.\n",
      "  return fn(*args, **kwargs)\n"
     ]
    },
    {
     "data": {
      "text/html": [
       "\n",
       "    <div>\n",
       "      \n",
       "      <progress value='14' max='100' style='width:300px; height:20px; vertical-align: middle;'></progress>\n",
       "      [ 14/100 17:32 < 2:05:41, 0.01 it/s, Epoch 0.16/2]\n",
       "    </div>\n",
       "    <table border=\"1\" class=\"dataframe\">\n",
       "  <thead>\n",
       " <tr style=\"text-align: left;\">\n",
       "      <th>Step</th>\n",
       "      <th>Training Loss</th>\n",
       "      <th>Validation Loss</th>\n",
       "    </tr>\n",
       "  </thead>\n",
       "  <tbody>\n",
       "  </tbody>\n",
       "</table><p>"
      ],
      "text/plain": [
       "<IPython.core.display.HTML object>"
      ]
     },
     "metadata": {},
     "output_type": "display_data"
    }
   ],
   "source": [
    "run_name = \"saul-classification-ft-new\"\n",
    "training_args = TrainingArguments(\n",
    "    output_dir=\"./saul-classification-ft-new\",\n",
    "    warmup_steps=2,\n",
    "    per_device_train_batch_size=2,\n",
    "    gradient_accumulation_steps=4,\n",
    "    gradient_checkpointing=False,\n",
    "    max_steps=100,\n",
    "    learning_rate=2.5e-5,\n",
    "    bf16=True,\n",
    "    optim=\"paged_adamw_8bit\",\n",
    "    logging_steps=25,\n",
    "    logging_dir=\"./logs\",\n",
    "    save_strategy=\"steps\",\n",
    "    save_steps=25,\n",
    "    eval_steps=25,\n",
    "    do_eval=True,\n",
    "    evaluation_strategy=\"steps\",\n",
    "    save_total_limit=3,\n",
    "    max_grad_norm=0.3,\n",
    "    report_to=\"wandb\",\n",
    "    run_name=f\"{run_name}-{datetime.now().strftime('%Y-%m-%d-%H-%M')}\"\n",
    ")\n",
    "\n",
    "data_collator = transformers.DataCollatorForLanguageModeling(tokenizer=tokenizer, mlm=False)\n",
    "\n",
    "trainer = transformers.Trainer(\n",
    "    model=model,\n",
    "    train_dataset=tok_train_dataset,\n",
    "    eval_dataset=tok_val_dataset,\n",
    "    args=training_args,\n",
    "    data_collator=data_collator,\n",
    ")\n",
    "\n",
    "#torch.cuda.synchronize()\n",
    "torch.cuda.empty_cache()\n",
    "\n",
    "trainer.train()"
   ]
  },
  {
   "cell_type": "code",
   "execution_count": null,
   "id": "b5dcc175bfcce649",
   "metadata": {},
   "outputs": [],
   "source": [
    "model.save_pretrained(\"saul-ft-2018to2020/\")\n",
    "model.config.use_cache = True"
   ]
  }
 ],
 "metadata": {
  "kernelspec": {
   "display_name": "Python 3 (ipykernel)",
   "language": "python",
   "name": "python3"
  },
  "language_info": {
   "codemirror_mode": {
    "name": "ipython",
    "version": 3
   },
   "file_extension": ".py",
   "mimetype": "text/x-python",
   "name": "python",
   "nbconvert_exporter": "python",
   "pygments_lexer": "ipython3",
   "version": "3.12.8"
  }
 },
 "nbformat": 4,
 "nbformat_minor": 5
}
