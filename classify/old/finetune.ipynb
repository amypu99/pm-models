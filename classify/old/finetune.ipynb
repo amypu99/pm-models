{
 "cells": [
  {
   "metadata": {},
   "cell_type": "code",
   "source": [
    "wandb.login()\n",
    "\n",
    "wandb_project = \"pm-classify-finetune\"\n",
    "if len(wandb_project) > 0:\n",
    "    os.environ[\"WANDB_PROJECT\"] = wandb_project\n"
   ],
   "id": "e652d52a87dc2464",
   "outputs": [],
   "execution_count": null
  },
  {
   "metadata": {},
   "cell_type": "code",
   "source": [
    "os.environ[\"CUDA_LAUNCH_BLOCKING\"] = \"1\"\n",
    "# os.environ[\"CUDA_VISIBLE_DEVICES\"] = \"0\"\n",
    "os.environ['PYTORCH_CUDA_ALLOC_CONF'] = 'max_split_size_mb:128' #'expandable_segments:True'"
   ],
   "id": "3ea8f8511695edcb",
   "outputs": [],
   "execution_count": null
  },
  {
   "metadata": {},
   "cell_type": "code",
   "source": [
    "train_dataset = load_dataset('json', data_files='./train_data.jsonl', split='train')\n",
    "val_dataset = load_dataset('json', data_files='./test_data.jsonl', split='train')"
   ],
   "id": "cef30bc2f4fc652a",
   "outputs": [],
   "execution_count": null
  },
  {
   "metadata": {},
   "cell_type": "code",
   "source": [
    "model_id = \"Equall/Saul-Instruct-v1\"\n",
    "\n",
    "bnb_config = BitsAndBytesConfig(\n",
    "    load_in_4bit=True,\n",
    "    bnb_4bit_use_double_quant=True,\n",
    "    bnb_4bit_quant_type=\"nf4\",\n",
    "    bnb_4bit_compute_dtype=torch.bfloat16\n",
    ")\n",
    "\n",
    "model = AutoModelForCausalLM.from_pretrained(\n",
    "    model_id,\n",
    "    quantization_config=bnb_config,\n",
    "    torch_dtype=torch.bfloat16,\n",
    "    trust_remote_code=True,\n",
    "    device_map=\"auto\",\n",
    ")\n",
    "model.config.use_cache = False\n",
    "model.config.pretraining_tp = 1\n",
    "model.gradient_checkpointing_enable()\n"
   ],
   "id": "8e48090f7110bfe5",
   "outputs": [],
   "execution_count": null
  },
  {
   "metadata": {},
   "cell_type": "code",
   "source": [
    "tokenizer = AutoTokenizer.from_pretrained(model_id, trust_remote_code=True)\n",
    "tokenizer.padding_side = 'right'\n",
    "tokenizer.pad_token = tokenizer.eos_token\n",
    "tokenizer.add_eos_token = True"
   ],
   "id": "501704b8eb76a9c3",
   "outputs": [],
   "execution_count": null
  },
  {
   "metadata": {},
   "cell_type": "markdown",
   "source": [
    "import matplotlib.pyplot as plt\n",
    "\n",
    "def plot_data_lengths(tokenized_train_dataset, tokenized_val_dataset):\n",
    "    lengths = [len(x['input_ids']) for x in tokenized_train_dataset]\n",
    "    lengths += [len(x['input_ids']) for x in tokenized_val_dataset]\n",
    "    print(len(lengths))\n",
    "\n",
    "    # Plotting the histogram\n",
    "    plt.figure(figsize=(10, 6))\n",
    "    plt.hist(lengths, bins=20, alpha=0.7, color='blue')\n",
    "    plt.xlabel('Length of input_ids')\n",
    "    plt.ylabel('Frequency')\n",
    "    plt.title('Distribution of Lengths of input_ids')\n",
    "    plt.show()"
   ],
   "id": "15b40cae6f0ca072"
  },
  {
   "metadata": {},
   "cell_type": "code",
   "source": [
    "def clean_text(text):\n",
    "    text = ' '.join(text.split())\n",
    "\n",
    "    text = text.replace('\\n', ' ')\n",
    "    text = text.replace('\\\\t', ' ')\n",
    "    text = text.replace('\\\\\"', '\"')\n",
    "\n",
    "    return text"
   ],
   "id": "4ccbacf845b8adab",
   "outputs": [],
   "execution_count": null
  },
  {
   "metadata": {},
   "cell_type": "code",
   "source": [
    "def truncate_and_tokenize(example):\n",
    "    question = f\"### Question: {example['Prompt']}\\n\"\n",
    "    answer = f\"\\n### Answer: {example['Response']}\"\n",
    "    max_len = 2000\n",
    "\n",
    "    q_tokens = tokenizer(question, add_special_tokens=False)['input_ids']\n",
    "    a_tokens = tokenizer(answer, add_special_tokens=False)['input_ids']\n",
    "    c_tokens = tokenizer(clean_text(example['Context']), add_special_tokens=False)['input_ids']\n",
    "\n",
    "    # Calculate available space for context\n",
    "    available = max_len - len(q_tokens) - len(a_tokens) - 2\n",
    "\n",
    "    # Truncate context if needed\n",
    "    if len(c_tokens) > available:\n",
    "        c_tokens = c_tokens[:available]\n",
    "\n",
    "    # Combine all tokens\n",
    "    combined_tokens = (\n",
    "        [tokenizer.bos_token_id] +\n",
    "        q_tokens +\n",
    "        c_tokens +\n",
    "        a_tokens +\n",
    "        [tokenizer.eos_token_id]\n",
    "    )\n",
    "\n",
    "    attention_mask = [1] * len(combined_tokens)\n",
    "\n",
    "    # Pad if necessary\n",
    "    if len(combined_tokens) < max_len:\n",
    "        padding_length = max_len - len(combined_tokens)\n",
    "        combined_tokens.extend([tokenizer.pad_token_id] * padding_length)\n",
    "        attention_mask.extend([0] * padding_length)\n",
    "\n",
    "    result = {\n",
    "        \"input_ids\": combined_tokens,\n",
    "        \"attention_mask\": attention_mask,\n",
    "        \"labels\": combined_tokens.copy()\n",
    "    }\n",
    "\n",
    "    return result"
   ],
   "id": "5e0f14b4dd93ac11",
   "outputs": [],
   "execution_count": null
  },
  {
   "metadata": {},
   "cell_type": "code",
   "source": [
    "tok_train_dataset = train_dataset.map(truncate_and_tokenize, remove_columns=train_dataset.column_names)\n",
    "tok_val_dataset = val_dataset.map(truncate_and_tokenize, remove_columns=val_dataset.column_names)"
   ],
   "id": "99514d581e609943",
   "outputs": [],
   "execution_count": null
  },
  {
   "metadata": {
    "jupyter": {
     "is_executing": true
    }
   },
   "cell_type": "code",
   "outputs": [],
   "execution_count": null,
   "source": [
    "# Import statements\n",
    "import transformers\n",
    "import os\n",
    "import wandb\n",
    "from datasets import load_dataset\n",
    "from transformers import AutoTokenizer, AutoModelForCausalLM, BitsAndBytesConfig, TrainingArguments\n",
    "import torch\n",
    "from datetime import datetime\n",
    "from peft import prepare_model_for_kbit_training, LoraConfig, get_peft_model"
   ],
   "id": "c8fc72be450f62ed"
  },
  {
   "metadata": {},
   "cell_type": "markdown",
   "source": [
    "def print_trainable_parameters(model):\n",
    "    trainable_parameters = 0\n",
    "    all_parameters = 0\n",
    "    for i, param in model.named_parameters():\n",
    "        all_parameters += param.numel()\n",
    "        if param.requires_grad:\n",
    "            trainable_parameters += param.numel()\n",
    "    print(f\"trainable_parameters: {trainable_parameters} || all_parameters: {all_parameters} || trainable: {100 * trainable_parameters/all_parameters}\" )"
   ],
   "id": "5bae3a8440d72f83"
  },
  {
   "metadata": {},
   "cell_type": "code",
   "source": [
    "model = prepare_model_for_kbit_training(model)\n",
    "\n",
    "config = LoraConfig(\n",
    "    r= 32,\n",
    "    lora_alpha= 64,\n",
    "    target_modules=[\"q_proj\", \"k_proj\", \"v_proj\", \"o_proj\", \"gate_proj\", \"up_proj\", \"down_proj\", \"lm_head\",],\n",
    "    bias=\"none\",\n",
    "    lora_dropout=0.05,\n",
    "    task_type=\"CAUSAL_LM\",\n",
    ")\n",
    "\n",
    "model = get_peft_model(model, config)\n",
    "# print_trainable_parameters(model)"
   ],
   "id": "d68aa4e139a9ab65",
   "outputs": [],
   "execution_count": null
  },
  {
   "metadata": {},
   "cell_type": "code",
   "source": [
    "run_name = \"saul-classification-ft\"\n",
    "training_args = TrainingArguments(\n",
    "    output_dir=\"./saul-classification-ft\",\n",
    "    warmup_steps=2,\n",
    "    per_device_train_batch_size=2,\n",
    "    gradient_accumulation_steps=4,\n",
    "    gradient_checkpointing=True,\n",
    "    max_steps=200,\n",
    "    learning_rate=2.5e-5,\n",
    "    bf16=True,\n",
    "    optim=\"paged_adamw_8bit\",\n",
    "    logging_steps=25,\n",
    "    logging_dir=\"./logs\",\n",
    "    save_strategy=\"steps\",\n",
    "    save_steps=25,\n",
    "    eval_steps=25,\n",
    "    do_eval=True,\n",
    "    evaluation_strategy=\"steps\",\n",
    "    save_total_limit=3,\n",
    "    max_grad_norm=0.3,\n",
    "    report_to=\"wandb\",\n",
    "    run_name=f\"{run_name}-{datetime.now().strftime('%Y-%m-%d-%H-%M')}\"\n",
    ")\n",
    "\n",
    "data_collator = transformers.DataCollatorForLanguageModeling(tokenizer=tokenizer, mlm=False)\n",
    "\n",
    "trainer = transformers.Trainer(\n",
    "    model=model,\n",
    "    train_dataset=tok_train_dataset,\n",
    "    eval_dataset=tok_val_dataset,\n",
    "    args=training_args,\n",
    "    data_collator=data_collator,\n",
    ")\n",
    "\n",
    "#torch.cuda.synchronize()\n",
    "torch.cuda.empty_cache()\n",
    "\n",
    "trainer.train()"
   ],
   "id": "d475085f8bae43ff",
   "outputs": [],
   "execution_count": null
  },
  {
   "metadata": {},
   "cell_type": "code",
   "source": [
    "trainer.model.save_pretrained(\"saul-ft-200/\")\n",
    "model.config.use_cache = True"
   ],
   "id": "b5dcc175bfcce649",
   "outputs": [],
   "execution_count": null
  },
  {
   "metadata": {},
   "cell_type": "code",
   "outputs": [],
   "execution_count": null,
   "source": [
    "from huggingface_hub import push_to_hub\n",
    "\n",
    "model.push_to_hub(\"prx2sam/saul-ft-200\")\n",
    "\n",
    "print(\"Model uploaded to huggingface.\")"
   ],
   "id": "725254758f55acd1"
  }
 ],
 "metadata": {
  "kernelspec": {
   "display_name": "Python 3",
   "language": "python",
   "name": "python3"
  },
  "language_info": {
   "codemirror_mode": {
    "name": "ipython",
    "version": 2
   },
   "file_extension": ".py",
   "mimetype": "text/x-python",
   "name": "python",
   "nbconvert_exporter": "python",
   "pygments_lexer": "ipython2",
   "version": "2.7.6"
  }
 },
 "nbformat": 4,
 "nbformat_minor": 5
}
